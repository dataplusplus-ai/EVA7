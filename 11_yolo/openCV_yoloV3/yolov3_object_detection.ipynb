{
  "nbformat": 4,
  "nbformat_minor": 0,
  "metadata": {
    "colab": {
      "name": "openCV_yolov3.ipynb",
      "provenance": [],
      "collapsed_sections": [],
      "authorship_tag": "ABX9TyNu+NbWVuiRZy+pO/t78tBA",
      "include_colab_link": true
    },
    "kernelspec": {
      "name": "python3",
      "display_name": "Python 3"
    },
    "language_info": {
      "name": "python"
    },
    "accelerator": "GPU"
  },
  "cells": [
    {
      "cell_type": "markdown",
      "metadata": {
        "id": "view-in-github",
        "colab_type": "text"
      },
      "source": [
        "<a href=\"https://colab.research.google.com/github/dataplusplus-ai/EVA7/blob/main/11_yolo/openCV_yoloV3/yolov3_object_detection.ipynb\" target=\"_parent\"><img src=\"https://colab.research.google.com/assets/colab-badge.svg\" alt=\"Open In Colab\"/></a>"
      ]
    },
    {
      "cell_type": "code",
      "source": [
        "from google.colab import drive\n",
        "drive.mount('/content/drive')"
      ],
      "metadata": {
        "colab": {
          "base_uri": "https://localhost:8080/"
        },
        "id": "1cVt6maawVfy",
        "outputId": "38f74b02-d31f-4a82-865f-489a9e5d78f3"
      },
      "execution_count": 1,
      "outputs": [
        {
          "output_type": "stream",
          "name": "stdout",
          "text": [
            "Mounted at /content/drive\n"
          ]
        }
      ]
    },
    {
      "cell_type": "code",
      "source": [
        "! ls \"/content/drive/MyDrive/yolo_assignment\""
      ],
      "metadata": {
        "colab": {
          "base_uri": "https://localhost:8080/"
        },
        "id": "nwOvS-lExIiG",
        "outputId": "a3a55d9f-7d43-4a3f-c1fb-ce79bab1942b"
      },
      "execution_count": 7,
      "outputs": [
        {
          "output_type": "stream",
          "name": "stdout",
          "text": [
            "environment.yml  yolo_object_detection.zip  yolov3.cfg\tyolov3.weights\n"
          ]
        }
      ]
    },
    {
      "cell_type": "code",
      "source": [
        "import cv2\n",
        "import numpy as np"
      ],
      "metadata": {
        "id": "TVHGbZHIx3OQ"
      },
      "execution_count": 15,
      "outputs": []
    },
    {
      "cell_type": "code",
      "source": [
        "!mv \"/content/drive/MyDrive/yolo_assignment/environment.yml\" \"/content\""
      ],
      "metadata": {
        "id": "i_IKROvwGT0W"
      },
      "execution_count": 19,
      "outputs": []
    },
    {
      "cell_type": "code",
      "source": [
        "\n",
        "class OpenCVYolo:\n",
        "  def __init__(self):\n",
        "    self.yolo_weights = self.load_yolo()\n",
        "    self.coco_classes = self.load_class_details()\n",
        " \n",
        "  def load_yolo(self):\n",
        "    # Load Yolo\n",
        "    net = cv2.dnn.readNet(\"yolov3.weights\", \"yolov3.cfg\")\n",
        "    return net\n",
        "\n",
        "  def load_class_details(self):\n",
        "    classes = []\n",
        "    with open(\"coco.names\", \"r\") as f:\n",
        "        classes = [line.strip() for line in f.readlines()]\n",
        "    return classes\n",
        "\n",
        "  def identify_objects(self, image):\n",
        "    # Loading image\n",
        "    img = cv2.imread(image)\n",
        "    img = cv2.resize(img, None, fx=0.4, fy=0.4)\n",
        "    height, width, channels = img.shape\n",
        "    \n",
        "    layer_names = self.yolo_weights.getLayerNames()\n",
        "    output_layers = [layer_names[i[0] - 1] for i in self.yolo_weights.getUnconnectedOutLayers()]\n",
        "    colors = np.random.uniform(0, 255, size=(len(self.coco_classes), 3))\n",
        "\n",
        "    # Detecting objects\n",
        "    blob = cv2.dnn.blobFromImage(img, 0.00392, (416, 416), (0, 0, 0), True, crop=False)\n",
        "\n",
        "    self.yolo_weights.setInput(blob)\n",
        "    outs = self.yolo_weights.forward(output_layers)\n",
        "\n",
        "    # Showing informations on the screen\n",
        "    class_ids = []\n",
        "    confidences = []\n",
        "    boxes = []\n",
        "    for out in outs:\n",
        "        for detection in out:\n",
        "            scores = detection[5:]\n",
        "            class_id = np.argmax(scores)\n",
        "            confidence = scores[class_id]\n",
        "            if confidence > 0.5:\n",
        "                # Object detected\n",
        "                center_x = int(detection[0] * width)\n",
        "                center_y = int(detection[1] * height)\n",
        "                w = int(detection[2] * width)\n",
        "                h = int(detection[3] * height)\n",
        "\n",
        "                # Rectangle coordinates\n",
        "                x = int(center_x - w / 2)\n",
        "                y = int(center_y - h / 2)\n",
        "\n",
        "                boxes.append([x, y, w, h])\n",
        "                confidences.append(float(confidence))\n",
        "                class_ids.append(class_id)\n",
        "\n",
        "    indexes = cv2.dnn.NMSBoxes(boxes, confidences, 0.5, 0.4)\n",
        "    print(indexes)\n",
        "    font = cv2.FONT_HERSHEY_SCRIPT_COMPLEX\n",
        "    for i in range(len(boxes)):\n",
        "        if i in indexes:\n",
        "            x, y, w, h = boxes[i]\n",
        "            label = str(self.coco_classes[class_ids[i]])\n",
        "            color = colors[class_ids[i]]\n",
        "            cv2.rectangle(img, (x, y), (x + w, y + h), color, 2)\n",
        "            cv2.putText(img, label, (x, y + 30), font,0.75, color, 3)\n",
        "\n",
        "    # Saving the image\n",
        "    cv2.imwrite('annotated_yolo_output.jpg', img)\n",
        "    return None\n",
        "\n",
        "if __name__ == \"__main__\":\n",
        "   yolo = OpenCVYolo() \n",
        "   yolo.identify_objects('malathi.jpg')"
      ],
      "metadata": {
        "colab": {
          "base_uri": "https://localhost:8080/"
        },
        "id": "siYTINqpx3U3",
        "outputId": "1335aec2-f35e-4b44-8efd-604e4445c389"
      },
      "execution_count": 29,
      "outputs": [
        {
          "output_type": "stream",
          "name": "stdout",
          "text": [
            "[[2]\n",
            " [1]\n",
            " [3]]\n"
          ]
        }
      ]
    },
    {
      "cell_type": "code",
      "source": [
        ""
      ],
      "metadata": {
        "id": "JmRGaFEk1aL6"
      },
      "execution_count": null,
      "outputs": []
    }
  ]
}